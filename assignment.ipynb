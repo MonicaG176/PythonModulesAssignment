{
 "cells": [
  {
   "cell_type": "markdown",
   "metadata": {},
   "source": [
    "**Practice:**\n",
    "1. **Basic Decision Making:**   - Write a program to check if a number is positive, negative, or zero.   - Input: Any integer.   - Output: A string stating the type of number.\n",
    "2. **Logical Operators:**   - Create a program that determines if a year is a leap year. Use logical operators.   - Input: A year.   - Output: True if a leap year, False otherwise.\n",
    "3. **Nested Conditional Statements:**   \n",
    " Develop a program that categorizes a person's life stage: child (< 18), adult (18-64), senior (> 64).   - Input: Age as an integer.   - Output: The life stage. "
   ]
  },
  {
   "cell_type": "code",
   "execution_count": null,
   "metadata": {},
   "outputs": [],
   "source": [
    "# answers\n"
   ]
  }
 ],
 "metadata": {
  "language_info": {
   "name": "python"
  }
 },
 "nbformat": 4,
 "nbformat_minor": 2
}
